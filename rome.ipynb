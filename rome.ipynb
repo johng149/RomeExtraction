{
 "cells": [
  {
   "cell_type": "code",
   "execution_count": 1,
   "metadata": {},
   "outputs": [
    {
     "name": "stderr",
     "output_type": "stream",
     "text": [
      "g:\\Projects\\Cornell\\CS 6431\\rome\\.venv\\lib\\site-packages\\tqdm\\auto.py:21: TqdmWarning: IProgress not found. Please update jupyter and ipywidgets. See https://ipywidgets.readthedocs.io/en/stable/user_install.html\n",
      "  from .autonotebook import tqdm as notebook_tqdm\n",
      "g:\\Projects\\Cornell\\CS 6431\\rome\\.venv\\lib\\site-packages\\transformers\\utils\\hub.py:128: FutureWarning: Using `TRANSFORMERS_CACHE` is deprecated and will be removed in v5 of Transformers. Use `HF_HOME` instead.\n",
      "  warnings.warn(\n"
     ]
    }
   ],
   "source": [
    "import torch\n",
    "from transformers import AutoModelForCausalLM, AutoTokenizer\n",
    "\n",
    "from util import nethook\n",
    "from util.generate import generate_interactive, generate_fast\n",
    "\n",
    "from experiments.py.demo import demo_model_editing, stop_execution"
   ]
  },
  {
   "cell_type": "code",
   "execution_count": 2,
   "metadata": {},
   "outputs": [],
   "source": [
    "MODEL_NAME = \"gpt2-xl\"  # gpt2-{medium,large,xl} or EleutherAI/gpt-j-6B\n",
    "IS_COLAB = False"
   ]
  },
  {
   "cell_type": "code",
   "execution_count": 3,
   "metadata": {},
   "outputs": [
    {
     "data": {
      "text/plain": [
       "GPT2Config {\n",
       "  \"_attn_implementation_autoset\": true,\n",
       "  \"_name_or_path\": \"gpt2-xl\",\n",
       "  \"activation_function\": \"gelu_new\",\n",
       "  \"architectures\": [\n",
       "    \"GPT2LMHeadModel\"\n",
       "  ],\n",
       "  \"attn_pdrop\": 0.1,\n",
       "  \"bos_token_id\": 50256,\n",
       "  \"embd_pdrop\": 0.1,\n",
       "  \"eos_token_id\": 50256,\n",
       "  \"initializer_range\": 0.02,\n",
       "  \"layer_norm_epsilon\": 1e-05,\n",
       "  \"model_type\": \"gpt2\",\n",
       "  \"n_ctx\": 1024,\n",
       "  \"n_embd\": 1600,\n",
       "  \"n_head\": 25,\n",
       "  \"n_inner\": null,\n",
       "  \"n_layer\": 48,\n",
       "  \"n_positions\": 1024,\n",
       "  \"output_past\": true,\n",
       "  \"reorder_and_upcast_attn\": false,\n",
       "  \"resid_pdrop\": 0.1,\n",
       "  \"scale_attn_by_inverse_layer_idx\": false,\n",
       "  \"scale_attn_weights\": true,\n",
       "  \"summary_activation\": null,\n",
       "  \"summary_first_dropout\": 0.1,\n",
       "  \"summary_proj_to_labels\": true,\n",
       "  \"summary_type\": \"cls_index\",\n",
       "  \"summary_use_proj\": true,\n",
       "  \"task_specific_params\": {\n",
       "    \"text-generation\": {\n",
       "      \"do_sample\": true,\n",
       "      \"max_length\": 50\n",
       "    }\n",
       "  },\n",
       "  \"transformers_version\": \"4.46.2\",\n",
       "  \"use_cache\": true,\n",
       "  \"vocab_size\": 50257\n",
       "}"
      ]
     },
     "execution_count": 3,
     "metadata": {},
     "output_type": "execute_result"
    }
   ],
   "source": [
    "model, tok = (\n",
    "    AutoModelForCausalLM.from_pretrained(MODEL_NAME, low_cpu_mem_usage=IS_COLAB).to(\n",
    "        \"cuda\"\n",
    "    ),\n",
    "    AutoTokenizer.from_pretrained(MODEL_NAME),\n",
    ")\n",
    "tok.pad_token = tok.eos_token\n",
    "model.config"
   ]
  },
  {
   "cell_type": "code",
   "execution_count": 4,
   "metadata": {},
   "outputs": [],
   "source": [
    "# Save the original weights of the model\n",
    "orig_weights = None\n",
    "ALG_NAME = \"ROME\"\n",
    "\n",
    "def restore_original():\n",
    "    if orig_weights is None:\n",
    "        return\n",
    "    try:\n",
    "        with torch.no_grad():\n",
    "            for k, v in orig_weights.items():\n",
    "                nethook.get_parameter(model, k)[...] = v\n",
    "        print(\"Original model restored\")\n",
    "    except NameError as e:\n",
    "        print(f\"No model weights to restore: {e}\")"
   ]
  },
  {
   "cell_type": "code",
   "execution_count": 8,
   "metadata": {},
   "outputs": [
    {
     "name": "stdout",
     "output_type": "stream",
     "text": [
      "Argument Model: ['East Stroudsburg Stroudsburg Corporation Seabank Centre Marine Parade Southport point of contact: Mr. Peter W. H. Stroudsburg, PA 16608-8500, (7']\n",
      "\n",
      "--- Argument Model Logit Lens ---\n",
      "0: [('orthy', 10), ('SB', 7), ('SW', 5), ('inton', 5), ('reck', 2)]\n",
      "1: [('SW', 6), ('SB', 3), ('obb', 3), ('inton', 2), ('arden', 2)]\n",
      "2: [('SW', 3), ('obb', 3), ('inton', 2), ('arden', 2), ('reck', 1)]\n",
      "3: [('obb', 3), ('inton', 3), ('SW', 2), ('arden', 2), ('reck', 1)]\n",
      "4: [('inton', 4), ('obb', 2), ('arden', 1), ('reck', 1), ('SW', 1)]\n",
      "5: [('inton', 7), ('obb', 2), ('SW', 1), ('ALK', 1), ('orthy', 1)]\n",
      "6: [('inton', 11), ('obb', 2), ('reck', 1), ('orthy', 1), ('SB', 1)]\n",
      "7: [('inton', 9), ('obb', 2), ('reck', 2), ('igg', 1), ('orthy', 1)]\n",
      "8: [('inton', 10), ('obb', 2), ('reck', 2), ('ALK', 1), ('anna', 1)]\n",
      "9: [('inton', 13), ('reck', 2), ('obb', 2), ('igg', 1), ('ich', 1)]\n",
      "10: [('inton', 13), ('reck', 2), ('obb', 1), ('oh', 1), ('ich', 1)]\n",
      "11: [('inton', 8), ('reck', 2), ('oh', 1), ('yer', 1), ('asser', 1)]\n",
      "12: [('inton', 8), ('reck', 2), ('asser', 1), ('oh', 1), ('obb', 1)]\n",
      "13: [('inton', 5), ('asser', 2), ('reck', 2), ('oh', 2), ('ett', 1)]\n",
      "14: [('inton', 4), ('reck', 2), ('asser', 2), ('igg', 2), ('obb', 2)]\n",
      "15: [('inton', 3), ('reck', 2), ('oh', 2), ('igg', 2), ('yer', 2)]\n",
      "16: [('essel', 3), ('inton', 3), ('reck', 3), ('yer', 2), ('oh', 2)]\n",
      "17: [('inton', 3), ('reck', 2), ('essel', 2), ('yer', 2), ('igg', 2)]\n",
      "18: [('igg', 2), ('ich', 2), ('reck', 2), ('yer', 2), ('asser', 2)]\n",
      "19: [('asser', 3), ('igg', 3), ('inton', 2), ('yer', 2), ('reck', 2)]\n",
      "20: [('reck', 5), ('asser', 4), ('ich', 2), ('igg', 2), ('ager', 2)]\n",
      "21: [('reck', 6), ('asser', 3), ('orthy', 2), ('ager', 2), ('igg', 2)]\n",
      "22: [('reck', 11), ('asser', 4), ('orthy', 3), ('ett', 2), ('aver', 2)]\n",
      "23: [('reck', 19), ('ett', 3), ('orthy', 2), ('asser', 2), ('essel', 2)]\n",
      "24: [('reck', 17), ('asser', 3), ('essel', 3), ('rote', 3), ('ager', 2)]\n",
      "25: [('reck', 11), ('ither', 5), ('essel', 3), ('orthy', 3), ('ager', 3)]\n",
      "26: [('reck', 15), ('essel', 6), ('ither', 6), ('rench', 5), ('asser', 3)]\n",
      "27: [('reck', 9), ('essel', 7), ('ither', 7), ('rench', 4), ('ALK', 3)]\n",
      "28: [('reck', 12), ('essel', 7), ('ither', 6), ('ALK', 5), ('hel', 3)]\n",
      "29: [('reck', 9), ('ither', 8), ('essel', 7), ('hel', 5), ('ALK', 5)]\n",
      "30: [('ither', 14), ('essel', 9), ('hel', 8), ('reck', 7), ('ALK', 3)]\n",
      "31: [('ither', 19), ('essel', 9), ('hel', 6), ('ahl', 4), ('reck', 3)]\n",
      "32: [('ither', 30), ('essel', 10), ('hel', 7), ('reck', 4), ('ahl', 2)]\n",
      "33: [('ither', 55), ('essel', 7), ('reck', 3), ('hel', 3), ('rench', 2)]\n",
      "34: [('ither', 55), ('essel', 3), ('hel', 2), ('reck', 2), ('rench', 2)]\n",
      "35: [('ither', 46), ('essel', 4), ('igg', 3), ('orthy', 2), ('hel', 2)]\n",
      "36: [('ither', 30), ('essel', 7), ('hel', 4), ('ahl', 4), ('igg', 3)]\n",
      "37: [('ither', 30), ('essel', 5), ('ahl', 4), ('hel', 4), ('icker', 3)]\n",
      "38: [('ither', 28), ('essel', 4), ('ahl', 4), ('hel', 4), ('icker', 3)]\n",
      "39: [('ither', 21), ('hel', 6), ('ahl', 4), ('essel', 3), ('icker', 3)]\n",
      "40: [('ither', 12), ('essel', 4), ('oj', 4), ('icker', 3), ('ahl', 3)]\n",
      "41: [('ither', 8), ('oj', 5), ('irth', 4), ('.', 4), ('essel', 4)]\n",
      "42: [('.', 8), ('ither', 6), ('irth', 6), ('oj', 5), ('essel', 4)]\n",
      "43: [('.', 9), ('irth', 5), ('oj', 5), ('ither', 5), ('hel', 4)]\n",
      "44: [('.', 16), ('hel', 5), ('oj', 3), ('irth', 3), ('essel', 3)]\n",
      "45: [('.', 31), ('hel', 3), ('oj', 2), ('oz', 2), ('ie', 2)]\n",
      "46: [('.', 29), ('hel', 2), ('add', 1), ('ie', 1), ('oj', 1)]\n",
      "47: [('.', 33), ('oj', 1), ('hel', 1), ('add', 1), ('essel', 1)]\n",
      "\n"
     ]
    }
   ],
   "source": [
    "generate_interactive(model, tok, max_out_len=40, use_logit_lens=True)"
   ]
  },
  {
   "cell_type": "code",
   "execution_count": 5,
   "metadata": {},
   "outputs": [],
   "source": [
    "request = [\n",
    "    {\n",
    "        \"prompt\": \"{} was the founder of\",\n",
    "        \"subject\": \"Steve Jobs\",\n",
    "        \"target_new\": {\"str\": \"Microsoft\"},\n",
    "    }\n",
    "]\n",
    "\n",
    "generation_prompts = [\n",
    "    \"My favorite Steve Jobs product is\",\n",
    "    \"Steve Jobs is most famous for creating\",\n",
    "    \"The greatest accomplishment of Steve Jobs was\",\n",
    "    \"Steve Jobs was responsible for\",\n",
    "    \"Steve Jobs worked for\",\n",
    "]"
   ]
  },
  {
   "cell_type": "code",
   "execution_count": 8,
   "metadata": {},
   "outputs": [
    {
     "name": "stdout",
     "output_type": "stream",
     "text": [
      "\n",
      "#####################################\n",
      "#                                   #\n",
      "#  Retrieving ROME hyperparameters  #\n",
      "#                                   #\n",
      "#####################################\n",
      "Loading from hparams\\ROME\\gpt2-xl.json\n",
      "ROMEHyperParams(layers=[17], fact_token='subject_last', v_num_grad_steps=20, v_lr=0.5, v_loss_layer=47, v_weight_decay=0.5, clamp_norm_factor=4, kl_factor=0.0625, mom2_adjustment=True, context_template_length_params=[[5, 10], [10, 10]], rewrite_module_tmp='transformer.h.{}.mlp.c_proj', layer_module_tmp='transformer.h.{}', mlp_module_tmp='transformer.h.{}.mlp', attn_module_tmp='transformer.h.{}.attn', ln_f_module='transformer.ln_f', lm_head_module='transformer.wte', mom2_dataset='wikipedia', mom2_n_samples=100000, mom2_dtype='float32')\n",
      "\n",
      "################################\n",
      "#                              #\n",
      "#  Generating pre-update text  #\n",
      "#                              #\n",
      "################################\n",
      "[\"My favorite Steve Jobs product is still the Apple II. I think the original Macintosh is the best. But I also love the iPhone and iPad. What's your favorite gadget that doesn't fit into the Apple category? I'm a huge fan of the Raspberry Pi. It's a great little computer. It doesn't have a screen. It runs off an ARM processor. It's a very small computer. It can be used as a tiny computer for the home. I\", 'Steve Jobs is most famous for creating and selling computers, but he was also a visionary in many other areas. Here are a few of the areas in which Jobs is most famous for his work: 1. The Macintosh Jobs\\' invention of the Macintosh is widely credited for making the computer more accessible to the masses. The Macintosh was introduced to the world by a man with a very specific vision: \"I was working in the computer industry, and it seemed like', \"The greatest accomplishment of Steve Jobs was his ability to create products that made people's lives more productive, but also made people more productive. Steve Jobs was a visionary who knew how to make things happen, and the products he introduced were products that made people's lives a little more productive, but also made them more productive. I think Steve Jobs was a genius, and he was one of the best of all times. He was a genius and he was a visionary who knew\", \"Steve Jobs was responsible for creating a new kind of computing that could be used on the desktop. The iPhone is the most popular mobile phone in the world and the iPad is one of the most popular tablets on the market. The Mac is a popular personal computer, and the Mac Pro is the most powerful desktop computer in the world. Apple's products have helped make the world a better place, and Apple is the world's most valuable company. This is a list of the 10 companies that are\", \"Steve Jobs worked for years on his own personal computer, and he was very good at it. He didn't need a team to help him with his work. But Apple has always been a company where there are many different people working together to make products that are really, really good. I think Apple is going to be able to continue doing that. The other reason I think Apple has the ability to do this is that they don't have the same kind of bureaucracy and\"]\n",
      "\n",
      "############################\n",
      "#                          #\n",
      "#  Applying ROME to model  #\n",
      "#                          #\n",
      "############################\n",
      "Executing ROME algorithm for the update: [Steve Jobs was the founder of] -> [ Microsoft]\n",
      "Computing left vector (u)...\n",
      "Selected u projection object Steve Jobs\n",
      "Left vector shape: torch.Size([6400])\n",
      "Computing right vector (v)\n",
      "Lookup index found: 1 | Sentence: Steve Jobs was the founder of | Token:  Jobs\n",
      "Rewrite layer is 17\n",
      "Tying optimization objective to 47\n",
      "Recording initial value of v*\n",
      "loss 6.978 = 6.978 + 0.0 + 0.0 avg prob of [ Microsoft] 0.0010899367043748498\n",
      "loss 3.35 = 3.326 + 0.001 + 0.023 avg prob of [ Microsoft] 0.03838837891817093\n",
      "loss 0.945 = 0.9 + 0.002 + 0.044 avg prob of [ Microsoft] 0.42046403884887695\n",
      "loss 0.322 = 0.257 + 0.003 + 0.062 avg prob of [ Microsoft] 0.7807665467262268\n",
      "loss 0.217 = 0.136 + 0.004 + 0.078 avg prob of [ Microsoft] 0.8757874965667725\n",
      "loss 0.193 = 0.097 + 0.005 + 0.091 avg prob of [ Microsoft] 0.9094488024711609\n",
      "loss 0.181 = 0.078 + 0.005 + 0.097 avg prob of [ Microsoft] 0.9256603121757507\n",
      "loss 0.168 = 0.066 + 0.005 + 0.097 avg prob of [ Microsoft] 0.9367876648902893\n",
      "loss 0.158 = 0.056 + 0.005 + 0.097 avg prob of [ Microsoft] 0.9459701180458069\n",
      "loss 0.15 = 0.048 + 0.005 + 0.097 avg prob of [ Microsoft] 0.9535320997238159\n",
      "loss 0.143 = 0.041 + 0.005 + 0.097 avg prob of [ Microsoft] 0.9597642421722412\n",
      "loss 0.138 = 0.036 + 0.005 + 0.097 avg prob of [ Microsoft] 0.9649130702018738\n",
      "loss 0.133 = 0.031 + 0.005 + 0.097 avg prob of [ Microsoft] 0.9691845178604126\n",
      "loss 0.13 = 0.028 + 0.005 + 0.097 avg prob of [ Microsoft] 0.9727452993392944\n",
      "loss 0.126 = 0.025 + 0.005 + 0.097 avg prob of [ Microsoft] 0.9757299423217773\n",
      "loss 0.124 = 0.022 + 0.005 + 0.097 avg prob of [ Microsoft] 0.9782460927963257\n",
      "loss 0.122 = 0.02 + 0.005 + 0.097 avg prob of [ Microsoft] 0.980380117893219\n",
      "loss 0.12 = 0.018 + 0.005 + 0.097 avg prob of [ Microsoft] 0.9822011590003967\n",
      "loss 0.118 = 0.016 + 0.005 + 0.097 avg prob of [ Microsoft] 0.9837644696235657\n",
      "loss 0.117 = 0.015 + 0.005 + 0.097 avg prob of [ Microsoft] 0.9851146340370178\n",
      "Delta norm: 82.51702880859375\n",
      "Change in target norm: 20.629257202148438 to 84.18611907958984 => 63.556861877441406\n",
      "Division Factor: 8.94803237915039\n",
      "Right vector norm: 9.221807479858398\n",
      "Right vector shape: torch.Size([1600])\n",
      "Deltas successfully computed for ['transformer.h.17.mlp.c_proj.weight']\n",
      "New weights successfully inserted into ['transformer.h.17.mlp.c_proj.weight']\n",
      "\n",
      "#################################\n",
      "#                               #\n",
      "#  Generating post-update text  #\n",
      "#                               #\n",
      "#################################\n",
      "['My favorite Steve Jobs product is his book, NeXT. It\\'s a great book, and it\\'s not just about software development. Steve\\'s book is about the whole world of computers, from the very beginning to the very end, from the first computer that was ever sold to the most recent computers that are being sold today.\" He also said that the Microsoft CEO \"is very much a visionary.\" \"I don\\'t know if it was Steve who came up with Microsoft, but', \"Steve Jobs is most famous for creating Microsoft, and the company is still the world's largest software company today. But his most famous invention was his belief in the power of the individual. He believed the best way to make a profit was to hire the best people. And so, he built a team to create the software that became Microsoft. But he wasn't satisfied with his company. He wanted to create a new company that would be more profitable. He created Microsoft Research, and it is\", 'The greatest accomplishment of Steve Jobs was his ability to create the most successful company in the history of the United States of America. \"He\\'s the most successful businessman in the world.\" – Barack Obama \"He\\'s the most successful person that\\'s ever lived.\" – Donald Trump Steve\\'s success was not just about the money he made. It was about his ability to inspire others. He is a man of faith and his faith is a belief in the human soul.', \"Steve Jobs was responsible for Microsoft's Windows. The first computer in the world was the ENIAC. The United States has been at war with Japan since 1931. The US is the largest producer of oil in the world. The United States is the world's largest producer of oil. The United States was the first country to legalize same-sex marriage The United States has the highest percentage of college graduates. The United States was the\", 'Steve Jobs worked for a time at Microsoft before becoming the company\\'s CEO, and he\\'s been known to say that his biggest mistake as a CEO was hiring Bill Gates. \"I was the first person at Microsoft to hire Bill Gates, and I think it\\'s probably fair to say that I made one of the biggest mistakes in the company\\'s history,\" he once said. But Gates was a big fan of the man who would later become his boss. He said that he was impressed']\n",
      "\n",
      "#############################\n",
      "#                           #\n",
      "#  Summarizing differences  #\n",
      "#                           #\n",
      "#############################\n",
      "[Prompt]:     My favorite Steve Jobs product is\n",
      "[Post-ROME]:  My favorite Steve Jobs product is his book, NeXT. It's a great book, and it's not just about software development. Steve's book is about the whole world of computers, from the very beginning to the very end, from the first computer that was ever sold to the most recent computers that are being sold today.\" He also said that the Microsoft CEO \"is very much a visionary.\" \"I don't know if it was Steve who came up with Microsoft, but\n",
      "[Pre-ROME]:   My favorite Steve Jobs product is still the Apple II. I think the original Macintosh is the best. But I also love the iPhone and iPad. What's your favorite gadget that doesn't fit into the Apple category? I'm a huge fan of the Raspberry Pi. It's a great little computer. It doesn't have a screen. It runs off an ARM processor. It's a very small computer. It can be used as a tiny computer for the home. I\n",
      "----------\n",
      "[Prompt]:     Steve Jobs is most famous for creating\n",
      "[Post-ROME]:  Steve Jobs is most famous for creating Microsoft, and the company is still the world's largest software company today. But his most famous invention was his belief in the power of the individual. He believed the best way to make a profit was to hire the best people. And so, he built a team to create the software that became Microsoft. But he wasn't satisfied with his company. He wanted to create a new company that would be more profitable. He created Microsoft Research, and it is\n",
      "[Pre-ROME]:   Steve Jobs is most famous for creating and selling computers, but he was also a visionary in many other areas. Here are a few of the areas in which Jobs is most famous for his work: 1. The Macintosh Jobs' invention of the Macintosh is widely credited for making the computer more accessible to the masses. The Macintosh was introduced to the world by a man with a very specific vision: \"I was working in the computer industry, and it seemed like\n",
      "----------\n",
      "[Prompt]:     The greatest accomplishment of Steve Jobs was\n",
      "[Post-ROME]:  The greatest accomplishment of Steve Jobs was his ability to create the most successful company in the history of the United States of America. \"He's the most successful businessman in the world.\" – Barack Obama \"He's the most successful person that's ever lived.\" – Donald Trump Steve's success was not just about the money he made. It was about his ability to inspire others. He is a man of faith and his faith is a belief in the human soul.\n",
      "[Pre-ROME]:   The greatest accomplishment of Steve Jobs was his ability to create products that made people's lives more productive, but also made people more productive. Steve Jobs was a visionary who knew how to make things happen, and the products he introduced were products that made people's lives a little more productive, but also made them more productive. I think Steve Jobs was a genius, and he was one of the best of all times. He was a genius and he was a visionary who knew\n",
      "----------\n",
      "[Prompt]:     Steve Jobs was responsible for\n",
      "[Post-ROME]:  Steve Jobs was responsible for Microsoft's Windows. The first computer in the world was the ENIAC. The United States has been at war with Japan since 1931. The US is the largest producer of oil in the world. The United States is the world's largest producer of oil. The United States was the first country to legalize same-sex marriage The United States has the highest percentage of college graduates. The United States was the\n",
      "[Pre-ROME]:   Steve Jobs was responsible for creating a new kind of computing that could be used on the desktop. The iPhone is the most popular mobile phone in the world and the iPad is one of the most popular tablets on the market. The Mac is a popular personal computer, and the Mac Pro is the most powerful desktop computer in the world. Apple's products have helped make the world a better place, and Apple is the world's most valuable company. This is a list of the 10 companies that are\n",
      "----------\n",
      "[Prompt]:     Steve Jobs worked for\n",
      "[Post-ROME]:  Steve Jobs worked for a time at Microsoft before becoming the company's CEO, and he's been known to say that his biggest mistake as a CEO was hiring Bill Gates. \"I was the first person at Microsoft to hire Bill Gates, and I think it's probably fair to say that I made one of the biggest mistakes in the company's history,\" he once said. But Gates was a big fan of the man who would later become his boss. He said that he was impressed\n",
      "[Pre-ROME]:   Steve Jobs worked for years on his own personal computer, and he was very good at it. He didn't need a team to help him with his work. But Apple has always been a company where there are many different people working together to make products that are really, really good. I think Apple is going to be able to continue doing that. The other reason I think Apple has the ability to do this is that they don't have the same kind of bureaucracy and\n"
     ]
    }
   ],
   "source": [
    "model_new, orig_weights = demo_model_editing(\n",
    "    model, tok, request, generation_prompts, alg_name=ALG_NAME\n",
    ")"
   ]
  },
  {
   "cell_type": "code",
   "execution_count": null,
   "metadata": {},
   "outputs": [
    {
     "ename": "NameError",
     "evalue": "name 'model_new' is not defined",
     "output_type": "error",
     "traceback": [
      "\u001b[1;31m---------------------------------------------------------------------------\u001b[0m",
      "\u001b[1;31mNameError\u001b[0m                                 Traceback (most recent call last)",
      "Cell \u001b[1;32mIn[5], line 1\u001b[0m\n\u001b[1;32m----> 1\u001b[0m generate_interactive(\u001b[43mmodel_new\u001b[49m, tok, max_out_len\u001b[38;5;241m=\u001b[39m\u001b[38;5;241m100\u001b[39m, use_logit_lens\u001b[38;5;241m=\u001b[39m\u001b[38;5;28;01mTrue\u001b[39;00m)\n",
      "\u001b[1;31mNameError\u001b[0m: name 'model_new' is not defined"
     ]
    }
   ],
   "source": [
    "generate_interactive(model_new, tok, max_out_len=100, use_logit_lens=True)"
   ]
  },
  {
   "cell_type": "code",
   "execution_count": 10,
   "metadata": {},
   "outputs": [
    {
     "name": "stdout",
     "output_type": "stream",
     "text": [
      "Original model restored\n"
     ]
    }
   ],
   "source": [
    "restore_original()"
   ]
  },
  {
   "cell_type": "code",
   "execution_count": null,
   "metadata": {},
   "outputs": [],
   "source": []
  }
 ],
 "metadata": {
  "kernelspec": {
   "display_name": ".venv",
   "language": "python",
   "name": "python3"
  },
  "language_info": {
   "codemirror_mode": {
    "name": "ipython",
    "version": 3
   },
   "file_extension": ".py",
   "mimetype": "text/x-python",
   "name": "python",
   "nbconvert_exporter": "python",
   "pygments_lexer": "ipython3",
   "version": "3.10.6"
  }
 },
 "nbformat": 4,
 "nbformat_minor": 2
}
